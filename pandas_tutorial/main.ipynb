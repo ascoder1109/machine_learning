{
 "cells": [
  {
   "metadata": {
    "ExecuteTime": {
     "end_time": "2024-04-20T07:15:43.871398Z",
     "start_time": "2024-04-20T07:15:43.867030Z"
    }
   },
   "cell_type": "code",
   "source": [
    "import numpy as np\n",
    "import pandas as pd\n"
   ],
   "id": "9dbece3217adf663",
   "outputs": [],
   "execution_count": 19
  },
  {
   "metadata": {
    "ExecuteTime": {
     "end_time": "2024-04-20T07:15:43.894045Z",
     "start_time": "2024-04-20T07:15:43.887507Z"
    }
   },
   "cell_type": "code",
   "source": [
    "dict1 = {\n",
    "    \"name\" : ['Aditya','Rohan','Skillf','Shubh'],\n",
    "    \"marks\" : [78,56,22,11],\n",
    "    \"city\" : [\"Siliguri\",\"Jalpaiguri\",\"Malda\",\"Kolkata\"]\n",
    "}"
   ],
   "id": "d590e4cce5104ef4",
   "outputs": [],
   "execution_count": 20
  },
  {
   "metadata": {
    "ExecuteTime": {
     "end_time": "2024-04-20T07:15:43.982142Z",
     "start_time": "2024-04-20T07:15:43.971248Z"
    }
   },
   "cell_type": "code",
   "source": [
    "df = pd.DataFrame(dict1)\n",
    "df"
   ],
   "id": "4cb7469b52eff53d",
   "outputs": [
    {
     "data": {
      "text/plain": [
       "     name  marks        city\n",
       "0  Aditya     78    Siliguri\n",
       "1   Rohan     56  Jalpaiguri\n",
       "2  Skillf     22       Malda\n",
       "3   Shubh     11     Kolkata"
      ],
      "text/html": [
       "<div>\n",
       "<style scoped>\n",
       "    .dataframe tbody tr th:only-of-type {\n",
       "        vertical-align: middle;\n",
       "    }\n",
       "\n",
       "    .dataframe tbody tr th {\n",
       "        vertical-align: top;\n",
       "    }\n",
       "\n",
       "    .dataframe thead th {\n",
       "        text-align: right;\n",
       "    }\n",
       "</style>\n",
       "<table border=\"1\" class=\"dataframe\">\n",
       "  <thead>\n",
       "    <tr style=\"text-align: right;\">\n",
       "      <th></th>\n",
       "      <th>name</th>\n",
       "      <th>marks</th>\n",
       "      <th>city</th>\n",
       "    </tr>\n",
       "  </thead>\n",
       "  <tbody>\n",
       "    <tr>\n",
       "      <th>0</th>\n",
       "      <td>Aditya</td>\n",
       "      <td>78</td>\n",
       "      <td>Siliguri</td>\n",
       "    </tr>\n",
       "    <tr>\n",
       "      <th>1</th>\n",
       "      <td>Rohan</td>\n",
       "      <td>56</td>\n",
       "      <td>Jalpaiguri</td>\n",
       "    </tr>\n",
       "    <tr>\n",
       "      <th>2</th>\n",
       "      <td>Skillf</td>\n",
       "      <td>22</td>\n",
       "      <td>Malda</td>\n",
       "    </tr>\n",
       "    <tr>\n",
       "      <th>3</th>\n",
       "      <td>Shubh</td>\n",
       "      <td>11</td>\n",
       "      <td>Kolkata</td>\n",
       "    </tr>\n",
       "  </tbody>\n",
       "</table>\n",
       "</div>"
      ]
     },
     "execution_count": 21,
     "metadata": {},
     "output_type": "execute_result"
    }
   ],
   "execution_count": 21
  },
  {
   "metadata": {
    "ExecuteTime": {
     "end_time": "2024-04-20T07:15:44.011185Z",
     "start_time": "2024-04-20T07:15:44.004374Z"
    }
   },
   "cell_type": "code",
   "source": "df.to_csv('friends.csv')",
   "id": "da45eb28ee7635fd",
   "outputs": [],
   "execution_count": 22
  },
  {
   "metadata": {
    "ExecuteTime": {
     "end_time": "2024-04-20T07:15:44.082810Z",
     "start_time": "2024-04-20T07:15:44.072491Z"
    }
   },
   "cell_type": "code",
   "source": "df.to_csv('friends_index_false.csv',index=False)",
   "id": "419a25f7f331f5d9",
   "outputs": [],
   "execution_count": 23
  },
  {
   "metadata": {
    "ExecuteTime": {
     "end_time": "2024-04-20T07:15:44.230005Z",
     "start_time": "2024-04-20T07:15:44.213124Z"
    }
   },
   "cell_type": "code",
   "source": "df.head(2)",
   "id": "d462473b32acc88b",
   "outputs": [
    {
     "data": {
      "text/plain": [
       "     name  marks        city\n",
       "0  Aditya     78    Siliguri\n",
       "1   Rohan     56  Jalpaiguri"
      ],
      "text/html": [
       "<div>\n",
       "<style scoped>\n",
       "    .dataframe tbody tr th:only-of-type {\n",
       "        vertical-align: middle;\n",
       "    }\n",
       "\n",
       "    .dataframe tbody tr th {\n",
       "        vertical-align: top;\n",
       "    }\n",
       "\n",
       "    .dataframe thead th {\n",
       "        text-align: right;\n",
       "    }\n",
       "</style>\n",
       "<table border=\"1\" class=\"dataframe\">\n",
       "  <thead>\n",
       "    <tr style=\"text-align: right;\">\n",
       "      <th></th>\n",
       "      <th>name</th>\n",
       "      <th>marks</th>\n",
       "      <th>city</th>\n",
       "    </tr>\n",
       "  </thead>\n",
       "  <tbody>\n",
       "    <tr>\n",
       "      <th>0</th>\n",
       "      <td>Aditya</td>\n",
       "      <td>78</td>\n",
       "      <td>Siliguri</td>\n",
       "    </tr>\n",
       "    <tr>\n",
       "      <th>1</th>\n",
       "      <td>Rohan</td>\n",
       "      <td>56</td>\n",
       "      <td>Jalpaiguri</td>\n",
       "    </tr>\n",
       "  </tbody>\n",
       "</table>\n",
       "</div>"
      ]
     },
     "execution_count": 24,
     "metadata": {},
     "output_type": "execute_result"
    }
   ],
   "execution_count": 24
  },
  {
   "metadata": {
    "ExecuteTime": {
     "end_time": "2024-04-20T07:15:44.424714Z",
     "start_time": "2024-04-20T07:15:44.414145Z"
    }
   },
   "cell_type": "code",
   "source": "df.tail(2)",
   "id": "5c65c0828ad647c",
   "outputs": [
    {
     "data": {
      "text/plain": [
       "     name  marks     city\n",
       "2  Skillf     22    Malda\n",
       "3   Shubh     11  Kolkata"
      ],
      "text/html": [
       "<div>\n",
       "<style scoped>\n",
       "    .dataframe tbody tr th:only-of-type {\n",
       "        vertical-align: middle;\n",
       "    }\n",
       "\n",
       "    .dataframe tbody tr th {\n",
       "        vertical-align: top;\n",
       "    }\n",
       "\n",
       "    .dataframe thead th {\n",
       "        text-align: right;\n",
       "    }\n",
       "</style>\n",
       "<table border=\"1\" class=\"dataframe\">\n",
       "  <thead>\n",
       "    <tr style=\"text-align: right;\">\n",
       "      <th></th>\n",
       "      <th>name</th>\n",
       "      <th>marks</th>\n",
       "      <th>city</th>\n",
       "    </tr>\n",
       "  </thead>\n",
       "  <tbody>\n",
       "    <tr>\n",
       "      <th>2</th>\n",
       "      <td>Skillf</td>\n",
       "      <td>22</td>\n",
       "      <td>Malda</td>\n",
       "    </tr>\n",
       "    <tr>\n",
       "      <th>3</th>\n",
       "      <td>Shubh</td>\n",
       "      <td>11</td>\n",
       "      <td>Kolkata</td>\n",
       "    </tr>\n",
       "  </tbody>\n",
       "</table>\n",
       "</div>"
      ]
     },
     "execution_count": 25,
     "metadata": {},
     "output_type": "execute_result"
    }
   ],
   "execution_count": 25
  },
  {
   "metadata": {
    "ExecuteTime": {
     "end_time": "2024-04-20T07:15:44.489318Z",
     "start_time": "2024-04-20T07:15:44.471780Z"
    }
   },
   "cell_type": "code",
   "source": "df.describe()",
   "id": "24b8c56c90bf3e81",
   "outputs": [
    {
     "data": {
      "text/plain": [
       "           marks\n",
       "count   4.000000\n",
       "mean   41.750000\n",
       "std    30.836937\n",
       "min    11.000000\n",
       "25%    19.250000\n",
       "50%    39.000000\n",
       "75%    61.500000\n",
       "max    78.000000"
      ],
      "text/html": [
       "<div>\n",
       "<style scoped>\n",
       "    .dataframe tbody tr th:only-of-type {\n",
       "        vertical-align: middle;\n",
       "    }\n",
       "\n",
       "    .dataframe tbody tr th {\n",
       "        vertical-align: top;\n",
       "    }\n",
       "\n",
       "    .dataframe thead th {\n",
       "        text-align: right;\n",
       "    }\n",
       "</style>\n",
       "<table border=\"1\" class=\"dataframe\">\n",
       "  <thead>\n",
       "    <tr style=\"text-align: right;\">\n",
       "      <th></th>\n",
       "      <th>marks</th>\n",
       "    </tr>\n",
       "  </thead>\n",
       "  <tbody>\n",
       "    <tr>\n",
       "      <th>count</th>\n",
       "      <td>4.000000</td>\n",
       "    </tr>\n",
       "    <tr>\n",
       "      <th>mean</th>\n",
       "      <td>41.750000</td>\n",
       "    </tr>\n",
       "    <tr>\n",
       "      <th>std</th>\n",
       "      <td>30.836937</td>\n",
       "    </tr>\n",
       "    <tr>\n",
       "      <th>min</th>\n",
       "      <td>11.000000</td>\n",
       "    </tr>\n",
       "    <tr>\n",
       "      <th>25%</th>\n",
       "      <td>19.250000</td>\n",
       "    </tr>\n",
       "    <tr>\n",
       "      <th>50%</th>\n",
       "      <td>39.000000</td>\n",
       "    </tr>\n",
       "    <tr>\n",
       "      <th>75%</th>\n",
       "      <td>61.500000</td>\n",
       "    </tr>\n",
       "    <tr>\n",
       "      <th>max</th>\n",
       "      <td>78.000000</td>\n",
       "    </tr>\n",
       "  </tbody>\n",
       "</table>\n",
       "</div>"
      ]
     },
     "execution_count": 26,
     "metadata": {},
     "output_type": "execute_result"
    }
   ],
   "execution_count": 26
  },
  {
   "metadata": {
    "ExecuteTime": {
     "end_time": "2024-04-20T07:15:44.573081Z",
     "start_time": "2024-04-20T07:15:44.560736Z"
    }
   },
   "cell_type": "code",
   "source": "readCsv = pd.read_csv('friends.csv')",
   "id": "ca311ec1cb230669",
   "outputs": [],
   "execution_count": 27
  },
  {
   "metadata": {
    "ExecuteTime": {
     "end_time": "2024-04-20T07:15:44.694987Z",
     "start_time": "2024-04-20T07:15:44.684942Z"
    }
   },
   "cell_type": "code",
   "source": "readCsv",
   "id": "b2d82ea81d062827",
   "outputs": [
    {
     "data": {
      "text/plain": [
       "   Unnamed: 0    name  marks        city\n",
       "0           0  Aditya     78    Siliguri\n",
       "1           1   Rohan     56  Jalpaiguri\n",
       "2           2  Skillf     22       Malda\n",
       "3           3   Shubh     11     Kolkata"
      ],
      "text/html": [
       "<div>\n",
       "<style scoped>\n",
       "    .dataframe tbody tr th:only-of-type {\n",
       "        vertical-align: middle;\n",
       "    }\n",
       "\n",
       "    .dataframe tbody tr th {\n",
       "        vertical-align: top;\n",
       "    }\n",
       "\n",
       "    .dataframe thead th {\n",
       "        text-align: right;\n",
       "    }\n",
       "</style>\n",
       "<table border=\"1\" class=\"dataframe\">\n",
       "  <thead>\n",
       "    <tr style=\"text-align: right;\">\n",
       "      <th></th>\n",
       "      <th>Unnamed: 0</th>\n",
       "      <th>name</th>\n",
       "      <th>marks</th>\n",
       "      <th>city</th>\n",
       "    </tr>\n",
       "  </thead>\n",
       "  <tbody>\n",
       "    <tr>\n",
       "      <th>0</th>\n",
       "      <td>0</td>\n",
       "      <td>Aditya</td>\n",
       "      <td>78</td>\n",
       "      <td>Siliguri</td>\n",
       "    </tr>\n",
       "    <tr>\n",
       "      <th>1</th>\n",
       "      <td>1</td>\n",
       "      <td>Rohan</td>\n",
       "      <td>56</td>\n",
       "      <td>Jalpaiguri</td>\n",
       "    </tr>\n",
       "    <tr>\n",
       "      <th>2</th>\n",
       "      <td>2</td>\n",
       "      <td>Skillf</td>\n",
       "      <td>22</td>\n",
       "      <td>Malda</td>\n",
       "    </tr>\n",
       "    <tr>\n",
       "      <th>3</th>\n",
       "      <td>3</td>\n",
       "      <td>Shubh</td>\n",
       "      <td>11</td>\n",
       "      <td>Kolkata</td>\n",
       "    </tr>\n",
       "  </tbody>\n",
       "</table>\n",
       "</div>"
      ]
     },
     "execution_count": 28,
     "metadata": {},
     "output_type": "execute_result"
    }
   ],
   "execution_count": 28
  },
  {
   "metadata": {
    "ExecuteTime": {
     "end_time": "2024-04-20T07:15:44.961735Z",
     "start_time": "2024-04-20T07:15:44.952487Z"
    }
   },
   "cell_type": "code",
   "source": "readCsv['marks']",
   "id": "3fc3b4271d899db",
   "outputs": [
    {
     "data": {
      "text/plain": [
       "0    78\n",
       "1    56\n",
       "2    22\n",
       "3    11\n",
       "Name: marks, dtype: int64"
      ]
     },
     "execution_count": 29,
     "metadata": {},
     "output_type": "execute_result"
    }
   ],
   "execution_count": 29
  },
  {
   "metadata": {
    "ExecuteTime": {
     "end_time": "2024-04-20T07:15:45.072846Z",
     "start_time": "2024-04-20T07:15:45.063396Z"
    }
   },
   "cell_type": "code",
   "source": "readCsv['marks'][0] = 90",
   "id": "8f796c106e4af3a",
   "outputs": [
    {
     "name": "stderr",
     "output_type": "stream",
     "text": [
      "C:\\Users\\as167\\AppData\\Local\\Temp\\ipykernel_1436\\277559976.py:1: SettingWithCopyWarning: \n",
      "A value is trying to be set on a copy of a slice from a DataFrame\n",
      "\n",
      "See the caveats in the documentation: https://pandas.pydata.org/pandas-docs/stable/user_guide/indexing.html#returning-a-view-versus-a-copy\n",
      "  readCsv['marks'][0] = 90\n"
     ]
    }
   ],
   "execution_count": 30
  },
  {
   "metadata": {
    "ExecuteTime": {
     "end_time": "2024-04-20T07:15:45.221494Z",
     "start_time": "2024-04-20T07:15:45.215044Z"
    }
   },
   "cell_type": "code",
   "source": "readCsv.to_csv('modify.csv')",
   "id": "547b18c272ccf7ea",
   "outputs": [],
   "execution_count": 31
  },
  {
   "metadata": {
    "ExecuteTime": {
     "end_time": "2024-04-20T07:15:45.295996Z",
     "start_time": "2024-04-20T07:15:45.291149Z"
    }
   },
   "cell_type": "code",
   "source": "readCsv.index = ['first','second','third','fourth']",
   "id": "bfb60d3edb3dadd6",
   "outputs": [],
   "execution_count": 32
  },
  {
   "metadata": {
    "ExecuteTime": {
     "end_time": "2024-04-20T07:15:45.505631Z",
     "start_time": "2024-04-20T07:15:45.496831Z"
    }
   },
   "cell_type": "code",
   "source": "readCsv",
   "id": "ac426cfebe264b82",
   "outputs": [
    {
     "data": {
      "text/plain": [
       "        Unnamed: 0    name  marks        city\n",
       "first            0  Aditya     90    Siliguri\n",
       "second           1   Rohan     56  Jalpaiguri\n",
       "third            2  Skillf     22       Malda\n",
       "fourth           3   Shubh     11     Kolkata"
      ],
      "text/html": [
       "<div>\n",
       "<style scoped>\n",
       "    .dataframe tbody tr th:only-of-type {\n",
       "        vertical-align: middle;\n",
       "    }\n",
       "\n",
       "    .dataframe tbody tr th {\n",
       "        vertical-align: top;\n",
       "    }\n",
       "\n",
       "    .dataframe thead th {\n",
       "        text-align: right;\n",
       "    }\n",
       "</style>\n",
       "<table border=\"1\" class=\"dataframe\">\n",
       "  <thead>\n",
       "    <tr style=\"text-align: right;\">\n",
       "      <th></th>\n",
       "      <th>Unnamed: 0</th>\n",
       "      <th>name</th>\n",
       "      <th>marks</th>\n",
       "      <th>city</th>\n",
       "    </tr>\n",
       "  </thead>\n",
       "  <tbody>\n",
       "    <tr>\n",
       "      <th>first</th>\n",
       "      <td>0</td>\n",
       "      <td>Aditya</td>\n",
       "      <td>90</td>\n",
       "      <td>Siliguri</td>\n",
       "    </tr>\n",
       "    <tr>\n",
       "      <th>second</th>\n",
       "      <td>1</td>\n",
       "      <td>Rohan</td>\n",
       "      <td>56</td>\n",
       "      <td>Jalpaiguri</td>\n",
       "    </tr>\n",
       "    <tr>\n",
       "      <th>third</th>\n",
       "      <td>2</td>\n",
       "      <td>Skillf</td>\n",
       "      <td>22</td>\n",
       "      <td>Malda</td>\n",
       "    </tr>\n",
       "    <tr>\n",
       "      <th>fourth</th>\n",
       "      <td>3</td>\n",
       "      <td>Shubh</td>\n",
       "      <td>11</td>\n",
       "      <td>Kolkata</td>\n",
       "    </tr>\n",
       "  </tbody>\n",
       "</table>\n",
       "</div>"
      ]
     },
     "execution_count": 33,
     "metadata": {},
     "output_type": "execute_result"
    }
   ],
   "execution_count": 33
  },
  {
   "metadata": {
    "ExecuteTime": {
     "end_time": "2024-04-20T07:16:05.388618Z",
     "start_time": "2024-04-20T07:16:05.381208Z"
    }
   },
   "cell_type": "code",
   "source": "ser = pd.Series(np.random.rand(34))",
   "id": "23674874bfe872de",
   "outputs": [],
   "execution_count": 36
  },
  {
   "metadata": {
    "ExecuteTime": {
     "end_time": "2024-04-20T07:16:21.693486Z",
     "start_time": "2024-04-20T07:16:21.686464Z"
    }
   },
   "cell_type": "code",
   "source": "type(ser)",
   "id": "bbc0d9ea46d9d00e",
   "outputs": [
    {
     "data": {
      "text/plain": [
       "pandas.core.series.Series"
      ]
     },
     "execution_count": 38,
     "metadata": {},
     "output_type": "execute_result"
    }
   ],
   "execution_count": 38
  },
  {
   "metadata": {
    "ExecuteTime": {
     "end_time": "2024-04-20T07:18:36.977572Z",
     "start_time": "2024-04-20T07:18:36.972121Z"
    }
   },
   "cell_type": "code",
   "source": "newdf = pd.DataFrame(np.random.rand(334,5), index=np.arange(334))",
   "id": "4c1113360896ce19",
   "outputs": [],
   "execution_count": 45
  },
  {
   "metadata": {
    "ExecuteTime": {
     "end_time": "2024-04-20T07:18:38.946756Z",
     "start_time": "2024-04-20T07:18:38.935198Z"
    }
   },
   "cell_type": "code",
   "source": "newdf",
   "id": "a0cb5ad3043c0e70",
   "outputs": [
    {
     "data": {
      "text/plain": [
       "            0         1         2         3         4\n",
       "0    0.668225  0.373167  0.984890  0.638374  0.527559\n",
       "1    0.900700  0.135465  0.156366  0.614674  0.431681\n",
       "2    0.955560  0.312437  0.033342  0.898731  0.713390\n",
       "3    0.887513  0.824431  0.824303  0.736842  0.179929\n",
       "4    0.452951  0.359239  0.746181  0.668290  0.280797\n",
       "..        ...       ...       ...       ...       ...\n",
       "329  0.215840  0.969948  0.957565  0.392553  0.543033\n",
       "330  0.498115  0.117756  0.039315  0.760463  0.564790\n",
       "331  0.455817  0.523791  0.710259  0.615974  0.096036\n",
       "332  0.298647  0.810011  0.018125  0.863259  0.121079\n",
       "333  0.435040  0.949015  0.435640  0.990003  0.108282\n",
       "\n",
       "[334 rows x 5 columns]"
      ],
      "text/html": [
       "<div>\n",
       "<style scoped>\n",
       "    .dataframe tbody tr th:only-of-type {\n",
       "        vertical-align: middle;\n",
       "    }\n",
       "\n",
       "    .dataframe tbody tr th {\n",
       "        vertical-align: top;\n",
       "    }\n",
       "\n",
       "    .dataframe thead th {\n",
       "        text-align: right;\n",
       "    }\n",
       "</style>\n",
       "<table border=\"1\" class=\"dataframe\">\n",
       "  <thead>\n",
       "    <tr style=\"text-align: right;\">\n",
       "      <th></th>\n",
       "      <th>0</th>\n",
       "      <th>1</th>\n",
       "      <th>2</th>\n",
       "      <th>3</th>\n",
       "      <th>4</th>\n",
       "    </tr>\n",
       "  </thead>\n",
       "  <tbody>\n",
       "    <tr>\n",
       "      <th>0</th>\n",
       "      <td>0.668225</td>\n",
       "      <td>0.373167</td>\n",
       "      <td>0.984890</td>\n",
       "      <td>0.638374</td>\n",
       "      <td>0.527559</td>\n",
       "    </tr>\n",
       "    <tr>\n",
       "      <th>1</th>\n",
       "      <td>0.900700</td>\n",
       "      <td>0.135465</td>\n",
       "      <td>0.156366</td>\n",
       "      <td>0.614674</td>\n",
       "      <td>0.431681</td>\n",
       "    </tr>\n",
       "    <tr>\n",
       "      <th>2</th>\n",
       "      <td>0.955560</td>\n",
       "      <td>0.312437</td>\n",
       "      <td>0.033342</td>\n",
       "      <td>0.898731</td>\n",
       "      <td>0.713390</td>\n",
       "    </tr>\n",
       "    <tr>\n",
       "      <th>3</th>\n",
       "      <td>0.887513</td>\n",
       "      <td>0.824431</td>\n",
       "      <td>0.824303</td>\n",
       "      <td>0.736842</td>\n",
       "      <td>0.179929</td>\n",
       "    </tr>\n",
       "    <tr>\n",
       "      <th>4</th>\n",
       "      <td>0.452951</td>\n",
       "      <td>0.359239</td>\n",
       "      <td>0.746181</td>\n",
       "      <td>0.668290</td>\n",
       "      <td>0.280797</td>\n",
       "    </tr>\n",
       "    <tr>\n",
       "      <th>...</th>\n",
       "      <td>...</td>\n",
       "      <td>...</td>\n",
       "      <td>...</td>\n",
       "      <td>...</td>\n",
       "      <td>...</td>\n",
       "    </tr>\n",
       "    <tr>\n",
       "      <th>329</th>\n",
       "      <td>0.215840</td>\n",
       "      <td>0.969948</td>\n",
       "      <td>0.957565</td>\n",
       "      <td>0.392553</td>\n",
       "      <td>0.543033</td>\n",
       "    </tr>\n",
       "    <tr>\n",
       "      <th>330</th>\n",
       "      <td>0.498115</td>\n",
       "      <td>0.117756</td>\n",
       "      <td>0.039315</td>\n",
       "      <td>0.760463</td>\n",
       "      <td>0.564790</td>\n",
       "    </tr>\n",
       "    <tr>\n",
       "      <th>331</th>\n",
       "      <td>0.455817</td>\n",
       "      <td>0.523791</td>\n",
       "      <td>0.710259</td>\n",
       "      <td>0.615974</td>\n",
       "      <td>0.096036</td>\n",
       "    </tr>\n",
       "    <tr>\n",
       "      <th>332</th>\n",
       "      <td>0.298647</td>\n",
       "      <td>0.810011</td>\n",
       "      <td>0.018125</td>\n",
       "      <td>0.863259</td>\n",
       "      <td>0.121079</td>\n",
       "    </tr>\n",
       "    <tr>\n",
       "      <th>333</th>\n",
       "      <td>0.435040</td>\n",
       "      <td>0.949015</td>\n",
       "      <td>0.435640</td>\n",
       "      <td>0.990003</td>\n",
       "      <td>0.108282</td>\n",
       "    </tr>\n",
       "  </tbody>\n",
       "</table>\n",
       "<p>334 rows × 5 columns</p>\n",
       "</div>"
      ]
     },
     "execution_count": 46,
     "metadata": {},
     "output_type": "execute_result"
    }
   ],
   "execution_count": 46
  },
  {
   "metadata": {
    "ExecuteTime": {
     "end_time": "2024-04-20T07:18:49.664908Z",
     "start_time": "2024-04-20T07:18:49.654784Z"
    }
   },
   "cell_type": "code",
   "source": "type(newdf)",
   "id": "3556901e4db9f176",
   "outputs": [
    {
     "data": {
      "text/plain": [
       "pandas.core.frame.DataFrame"
      ]
     },
     "execution_count": 47,
     "metadata": {},
     "output_type": "execute_result"
    }
   ],
   "execution_count": 47
  },
  {
   "metadata": {
    "ExecuteTime": {
     "end_time": "2024-04-20T07:19:01.589246Z",
     "start_time": "2024-04-20T07:19:01.570588Z"
    }
   },
   "cell_type": "code",
   "source": "newdf.describe()",
   "id": "62a2c91b9cedf423",
   "outputs": [
    {
     "data": {
      "text/plain": [
       "                0           1           2           3           4\n",
       "count  334.000000  334.000000  334.000000  334.000000  334.000000\n",
       "mean     0.481347    0.474933    0.507019    0.494241    0.468076\n",
       "std      0.285701    0.282293    0.287112    0.290967    0.296900\n",
       "min      0.000676    0.000907    0.002487    0.000312    0.000102\n",
       "25%      0.240828    0.230730    0.266090    0.254447    0.198480\n",
       "50%      0.465439    0.469034    0.513085    0.479407    0.444927\n",
       "75%      0.731164    0.709353    0.739301    0.769941    0.737596\n",
       "max      0.997220    0.983379    0.987987    0.997133    0.981135"
      ],
      "text/html": [
       "<div>\n",
       "<style scoped>\n",
       "    .dataframe tbody tr th:only-of-type {\n",
       "        vertical-align: middle;\n",
       "    }\n",
       "\n",
       "    .dataframe tbody tr th {\n",
       "        vertical-align: top;\n",
       "    }\n",
       "\n",
       "    .dataframe thead th {\n",
       "        text-align: right;\n",
       "    }\n",
       "</style>\n",
       "<table border=\"1\" class=\"dataframe\">\n",
       "  <thead>\n",
       "    <tr style=\"text-align: right;\">\n",
       "      <th></th>\n",
       "      <th>0</th>\n",
       "      <th>1</th>\n",
       "      <th>2</th>\n",
       "      <th>3</th>\n",
       "      <th>4</th>\n",
       "    </tr>\n",
       "  </thead>\n",
       "  <tbody>\n",
       "    <tr>\n",
       "      <th>count</th>\n",
       "      <td>334.000000</td>\n",
       "      <td>334.000000</td>\n",
       "      <td>334.000000</td>\n",
       "      <td>334.000000</td>\n",
       "      <td>334.000000</td>\n",
       "    </tr>\n",
       "    <tr>\n",
       "      <th>mean</th>\n",
       "      <td>0.481347</td>\n",
       "      <td>0.474933</td>\n",
       "      <td>0.507019</td>\n",
       "      <td>0.494241</td>\n",
       "      <td>0.468076</td>\n",
       "    </tr>\n",
       "    <tr>\n",
       "      <th>std</th>\n",
       "      <td>0.285701</td>\n",
       "      <td>0.282293</td>\n",
       "      <td>0.287112</td>\n",
       "      <td>0.290967</td>\n",
       "      <td>0.296900</td>\n",
       "    </tr>\n",
       "    <tr>\n",
       "      <th>min</th>\n",
       "      <td>0.000676</td>\n",
       "      <td>0.000907</td>\n",
       "      <td>0.002487</td>\n",
       "      <td>0.000312</td>\n",
       "      <td>0.000102</td>\n",
       "    </tr>\n",
       "    <tr>\n",
       "      <th>25%</th>\n",
       "      <td>0.240828</td>\n",
       "      <td>0.230730</td>\n",
       "      <td>0.266090</td>\n",
       "      <td>0.254447</td>\n",
       "      <td>0.198480</td>\n",
       "    </tr>\n",
       "    <tr>\n",
       "      <th>50%</th>\n",
       "      <td>0.465439</td>\n",
       "      <td>0.469034</td>\n",
       "      <td>0.513085</td>\n",
       "      <td>0.479407</td>\n",
       "      <td>0.444927</td>\n",
       "    </tr>\n",
       "    <tr>\n",
       "      <th>75%</th>\n",
       "      <td>0.731164</td>\n",
       "      <td>0.709353</td>\n",
       "      <td>0.739301</td>\n",
       "      <td>0.769941</td>\n",
       "      <td>0.737596</td>\n",
       "    </tr>\n",
       "    <tr>\n",
       "      <th>max</th>\n",
       "      <td>0.997220</td>\n",
       "      <td>0.983379</td>\n",
       "      <td>0.987987</td>\n",
       "      <td>0.997133</td>\n",
       "      <td>0.981135</td>\n",
       "    </tr>\n",
       "  </tbody>\n",
       "</table>\n",
       "</div>"
      ]
     },
     "execution_count": 48,
     "metadata": {},
     "output_type": "execute_result"
    }
   ],
   "execution_count": 48
  },
  {
   "metadata": {
    "ExecuteTime": {
     "end_time": "2024-04-20T07:19:16.856976Z",
     "start_time": "2024-04-20T07:19:16.849449Z"
    }
   },
   "cell_type": "code",
   "source": "newdf.dtypes",
   "id": "cb3c93fe99ca48c9",
   "outputs": [
    {
     "data": {
      "text/plain": [
       "0    float64\n",
       "1    float64\n",
       "2    float64\n",
       "3    float64\n",
       "4    float64\n",
       "dtype: object"
      ]
     },
     "execution_count": 49,
     "metadata": {},
     "output_type": "execute_result"
    }
   ],
   "execution_count": 49
  },
  {
   "metadata": {
    "ExecuteTime": {
     "end_time": "2024-04-20T07:19:28.354408Z",
     "start_time": "2024-04-20T07:19:28.343186Z"
    }
   },
   "cell_type": "code",
   "source": "newdf.head()",
   "id": "3061a57280ce3c01",
   "outputs": [
    {
     "data": {
      "text/plain": [
       "          0         1         2         3         4\n",
       "0  0.668225  0.373167  0.984890  0.638374  0.527559\n",
       "1  0.900700  0.135465  0.156366  0.614674  0.431681\n",
       "2  0.955560  0.312437  0.033342  0.898731  0.713390\n",
       "3  0.887513  0.824431  0.824303  0.736842  0.179929\n",
       "4  0.452951  0.359239  0.746181  0.668290  0.280797"
      ],
      "text/html": [
       "<div>\n",
       "<style scoped>\n",
       "    .dataframe tbody tr th:only-of-type {\n",
       "        vertical-align: middle;\n",
       "    }\n",
       "\n",
       "    .dataframe tbody tr th {\n",
       "        vertical-align: top;\n",
       "    }\n",
       "\n",
       "    .dataframe thead th {\n",
       "        text-align: right;\n",
       "    }\n",
       "</style>\n",
       "<table border=\"1\" class=\"dataframe\">\n",
       "  <thead>\n",
       "    <tr style=\"text-align: right;\">\n",
       "      <th></th>\n",
       "      <th>0</th>\n",
       "      <th>1</th>\n",
       "      <th>2</th>\n",
       "      <th>3</th>\n",
       "      <th>4</th>\n",
       "    </tr>\n",
       "  </thead>\n",
       "  <tbody>\n",
       "    <tr>\n",
       "      <th>0</th>\n",
       "      <td>0.668225</td>\n",
       "      <td>0.373167</td>\n",
       "      <td>0.984890</td>\n",
       "      <td>0.638374</td>\n",
       "      <td>0.527559</td>\n",
       "    </tr>\n",
       "    <tr>\n",
       "      <th>1</th>\n",
       "      <td>0.900700</td>\n",
       "      <td>0.135465</td>\n",
       "      <td>0.156366</td>\n",
       "      <td>0.614674</td>\n",
       "      <td>0.431681</td>\n",
       "    </tr>\n",
       "    <tr>\n",
       "      <th>2</th>\n",
       "      <td>0.955560</td>\n",
       "      <td>0.312437</td>\n",
       "      <td>0.033342</td>\n",
       "      <td>0.898731</td>\n",
       "      <td>0.713390</td>\n",
       "    </tr>\n",
       "    <tr>\n",
       "      <th>3</th>\n",
       "      <td>0.887513</td>\n",
       "      <td>0.824431</td>\n",
       "      <td>0.824303</td>\n",
       "      <td>0.736842</td>\n",
       "      <td>0.179929</td>\n",
       "    </tr>\n",
       "    <tr>\n",
       "      <th>4</th>\n",
       "      <td>0.452951</td>\n",
       "      <td>0.359239</td>\n",
       "      <td>0.746181</td>\n",
       "      <td>0.668290</td>\n",
       "      <td>0.280797</td>\n",
       "    </tr>\n",
       "  </tbody>\n",
       "</table>\n",
       "</div>"
      ]
     },
     "execution_count": 50,
     "metadata": {},
     "output_type": "execute_result"
    }
   ],
   "execution_count": 50
  },
  {
   "metadata": {
    "ExecuteTime": {
     "end_time": "2024-04-20T07:20:42.771033Z",
     "start_time": "2024-04-20T07:20:42.764489Z"
    }
   },
   "cell_type": "code",
   "source": "newdf.index",
   "id": "7c15450a473fb3a2",
   "outputs": [
    {
     "data": {
      "text/plain": [
       "Index([  0,   1,   2,   3,   4,   5,   6,   7,   8,   9,\n",
       "       ...\n",
       "       324, 325, 326, 327, 328, 329, 330, 331, 332, 333],\n",
       "      dtype='int32', length=334)"
      ]
     },
     "execution_count": 51,
     "metadata": {},
     "output_type": "execute_result"
    }
   ],
   "execution_count": 51
  },
  {
   "metadata": {
    "ExecuteTime": {
     "end_time": "2024-04-20T07:20:55.681300Z",
     "start_time": "2024-04-20T07:20:55.675311Z"
    }
   },
   "cell_type": "code",
   "source": "newdf.columns",
   "id": "df8e6faa15f360b6",
   "outputs": [
    {
     "data": {
      "text/plain": [
       "RangeIndex(start=0, stop=5, step=1)"
      ]
     },
     "execution_count": 52,
     "metadata": {},
     "output_type": "execute_result"
    }
   ],
   "execution_count": 52
  },
  {
   "metadata": {
    "ExecuteTime": {
     "end_time": "2024-04-20T07:22:10.020257Z",
     "start_time": "2024-04-20T07:22:10.013311Z"
    }
   },
   "cell_type": "code",
   "source": "newdf.to_numpy()",
   "id": "bfbad92fbc5f98bb",
   "outputs": [
    {
     "data": {
      "text/plain": [
       "array([[0.66822455, 0.37316652, 0.98489009, 0.6383745 , 0.52755925],\n",
       "       [0.90069972, 0.13546517, 0.15636595, 0.61467419, 0.43168082],\n",
       "       [0.95556021, 0.31243698, 0.03334227, 0.89873117, 0.71338959],\n",
       "       ...,\n",
       "       [0.45581686, 0.52379111, 0.71025948, 0.61597438, 0.09603633],\n",
       "       [0.29864679, 0.81001097, 0.01812529, 0.86325948, 0.12107931],\n",
       "       [0.43504012, 0.94901521, 0.43564022, 0.99000275, 0.10828178]])"
      ]
     },
     "execution_count": 53,
     "metadata": {},
     "output_type": "execute_result"
    }
   ],
   "execution_count": 53
  },
  {
   "metadata": {
    "ExecuteTime": {
     "end_time": "2024-04-20T07:23:34.494443Z",
     "start_time": "2024-04-20T07:23:34.480258Z"
    }
   },
   "cell_type": "code",
   "source": "newdf.sort_index(axis=0, ascending=False)",
   "id": "5e5f26a6ab8177",
   "outputs": [
    {
     "data": {
      "text/plain": [
       "            0         1         2         3         4\n",
       "333  0.435040  0.949015  0.435640  0.990003  0.108282\n",
       "332  0.298647  0.810011  0.018125  0.863259  0.121079\n",
       "331  0.455817  0.523791  0.710259  0.615974  0.096036\n",
       "330  0.498115  0.117756  0.039315  0.760463  0.564790\n",
       "329  0.215840  0.969948  0.957565  0.392553  0.543033\n",
       "..        ...       ...       ...       ...       ...\n",
       "4    0.452951  0.359239  0.746181  0.668290  0.280797\n",
       "3    0.887513  0.824431  0.824303  0.736842  0.179929\n",
       "2    0.955560  0.312437  0.033342  0.898731  0.713390\n",
       "1    0.900700  0.135465  0.156366  0.614674  0.431681\n",
       "0    0.668225  0.373167  0.984890  0.638374  0.527559\n",
       "\n",
       "[334 rows x 5 columns]"
      ],
      "text/html": [
       "<div>\n",
       "<style scoped>\n",
       "    .dataframe tbody tr th:only-of-type {\n",
       "        vertical-align: middle;\n",
       "    }\n",
       "\n",
       "    .dataframe tbody tr th {\n",
       "        vertical-align: top;\n",
       "    }\n",
       "\n",
       "    .dataframe thead th {\n",
       "        text-align: right;\n",
       "    }\n",
       "</style>\n",
       "<table border=\"1\" class=\"dataframe\">\n",
       "  <thead>\n",
       "    <tr style=\"text-align: right;\">\n",
       "      <th></th>\n",
       "      <th>0</th>\n",
       "      <th>1</th>\n",
       "      <th>2</th>\n",
       "      <th>3</th>\n",
       "      <th>4</th>\n",
       "    </tr>\n",
       "  </thead>\n",
       "  <tbody>\n",
       "    <tr>\n",
       "      <th>333</th>\n",
       "      <td>0.435040</td>\n",
       "      <td>0.949015</td>\n",
       "      <td>0.435640</td>\n",
       "      <td>0.990003</td>\n",
       "      <td>0.108282</td>\n",
       "    </tr>\n",
       "    <tr>\n",
       "      <th>332</th>\n",
       "      <td>0.298647</td>\n",
       "      <td>0.810011</td>\n",
       "      <td>0.018125</td>\n",
       "      <td>0.863259</td>\n",
       "      <td>0.121079</td>\n",
       "    </tr>\n",
       "    <tr>\n",
       "      <th>331</th>\n",
       "      <td>0.455817</td>\n",
       "      <td>0.523791</td>\n",
       "      <td>0.710259</td>\n",
       "      <td>0.615974</td>\n",
       "      <td>0.096036</td>\n",
       "    </tr>\n",
       "    <tr>\n",
       "      <th>330</th>\n",
       "      <td>0.498115</td>\n",
       "      <td>0.117756</td>\n",
       "      <td>0.039315</td>\n",
       "      <td>0.760463</td>\n",
       "      <td>0.564790</td>\n",
       "    </tr>\n",
       "    <tr>\n",
       "      <th>329</th>\n",
       "      <td>0.215840</td>\n",
       "      <td>0.969948</td>\n",
       "      <td>0.957565</td>\n",
       "      <td>0.392553</td>\n",
       "      <td>0.543033</td>\n",
       "    </tr>\n",
       "    <tr>\n",
       "      <th>...</th>\n",
       "      <td>...</td>\n",
       "      <td>...</td>\n",
       "      <td>...</td>\n",
       "      <td>...</td>\n",
       "      <td>...</td>\n",
       "    </tr>\n",
       "    <tr>\n",
       "      <th>4</th>\n",
       "      <td>0.452951</td>\n",
       "      <td>0.359239</td>\n",
       "      <td>0.746181</td>\n",
       "      <td>0.668290</td>\n",
       "      <td>0.280797</td>\n",
       "    </tr>\n",
       "    <tr>\n",
       "      <th>3</th>\n",
       "      <td>0.887513</td>\n",
       "      <td>0.824431</td>\n",
       "      <td>0.824303</td>\n",
       "      <td>0.736842</td>\n",
       "      <td>0.179929</td>\n",
       "    </tr>\n",
       "    <tr>\n",
       "      <th>2</th>\n",
       "      <td>0.955560</td>\n",
       "      <td>0.312437</td>\n",
       "      <td>0.033342</td>\n",
       "      <td>0.898731</td>\n",
       "      <td>0.713390</td>\n",
       "    </tr>\n",
       "    <tr>\n",
       "      <th>1</th>\n",
       "      <td>0.900700</td>\n",
       "      <td>0.135465</td>\n",
       "      <td>0.156366</td>\n",
       "      <td>0.614674</td>\n",
       "      <td>0.431681</td>\n",
       "    </tr>\n",
       "    <tr>\n",
       "      <th>0</th>\n",
       "      <td>0.668225</td>\n",
       "      <td>0.373167</td>\n",
       "      <td>0.984890</td>\n",
       "      <td>0.638374</td>\n",
       "      <td>0.527559</td>\n",
       "    </tr>\n",
       "  </tbody>\n",
       "</table>\n",
       "<p>334 rows × 5 columns</p>\n",
       "</div>"
      ]
     },
     "execution_count": 54,
     "metadata": {},
     "output_type": "execute_result"
    }
   ],
   "execution_count": 54
  },
  {
   "metadata": {
    "ExecuteTime": {
     "end_time": "2024-04-20T07:28:26.648334Z",
     "start_time": "2024-04-20T07:28:26.641661Z"
    }
   },
   "cell_type": "code",
   "source": "newdf.loc[0,0] = 654",
   "id": "883eee88617e7f99",
   "outputs": [],
   "execution_count": 55
  },
  {
   "metadata": {
    "ExecuteTime": {
     "end_time": "2024-04-20T07:28:33.503589Z",
     "start_time": "2024-04-20T07:28:33.491647Z"
    }
   },
   "cell_type": "code",
   "source": "newdf.head(2)",
   "id": "78ef28a2ed1687a8",
   "outputs": [
    {
     "data": {
      "text/plain": [
       "          0         1         2         3         4\n",
       "0  654.0000  0.373167  0.984890  0.638374  0.527559\n",
       "1    0.9007  0.135465  0.156366  0.614674  0.431681"
      ],
      "text/html": [
       "<div>\n",
       "<style scoped>\n",
       "    .dataframe tbody tr th:only-of-type {\n",
       "        vertical-align: middle;\n",
       "    }\n",
       "\n",
       "    .dataframe tbody tr th {\n",
       "        vertical-align: top;\n",
       "    }\n",
       "\n",
       "    .dataframe thead th {\n",
       "        text-align: right;\n",
       "    }\n",
       "</style>\n",
       "<table border=\"1\" class=\"dataframe\">\n",
       "  <thead>\n",
       "    <tr style=\"text-align: right;\">\n",
       "      <th></th>\n",
       "      <th>0</th>\n",
       "      <th>1</th>\n",
       "      <th>2</th>\n",
       "      <th>3</th>\n",
       "      <th>4</th>\n",
       "    </tr>\n",
       "  </thead>\n",
       "  <tbody>\n",
       "    <tr>\n",
       "      <th>0</th>\n",
       "      <td>654.0000</td>\n",
       "      <td>0.373167</td>\n",
       "      <td>0.984890</td>\n",
       "      <td>0.638374</td>\n",
       "      <td>0.527559</td>\n",
       "    </tr>\n",
       "    <tr>\n",
       "      <th>1</th>\n",
       "      <td>0.9007</td>\n",
       "      <td>0.135465</td>\n",
       "      <td>0.156366</td>\n",
       "      <td>0.614674</td>\n",
       "      <td>0.431681</td>\n",
       "    </tr>\n",
       "  </tbody>\n",
       "</table>\n",
       "</div>"
      ]
     },
     "execution_count": 56,
     "metadata": {},
     "output_type": "execute_result"
    }
   ],
   "execution_count": 56
  },
  {
   "metadata": {
    "ExecuteTime": {
     "end_time": "2024-04-20T07:28:57.872424Z",
     "start_time": "2024-04-20T07:28:57.868384Z"
    }
   },
   "cell_type": "code",
   "source": "newdf.columns = list(\"ABCDE\")",
   "id": "cbeb928718da4e22",
   "outputs": [],
   "execution_count": 57
  },
  {
   "metadata": {
    "ExecuteTime": {
     "end_time": "2024-04-20T07:29:03.746063Z",
     "start_time": "2024-04-20T07:29:03.734319Z"
    }
   },
   "cell_type": "code",
   "source": "newdf.head()",
   "id": "52eb657ffc17af28",
   "outputs": [
    {
     "data": {
      "text/plain": [
       "            A         B         C         D         E\n",
       "0  654.000000  0.373167  0.984890  0.638374  0.527559\n",
       "1    0.900700  0.135465  0.156366  0.614674  0.431681\n",
       "2    0.955560  0.312437  0.033342  0.898731  0.713390\n",
       "3    0.887513  0.824431  0.824303  0.736842  0.179929\n",
       "4    0.452951  0.359239  0.746181  0.668290  0.280797"
      ],
      "text/html": [
       "<div>\n",
       "<style scoped>\n",
       "    .dataframe tbody tr th:only-of-type {\n",
       "        vertical-align: middle;\n",
       "    }\n",
       "\n",
       "    .dataframe tbody tr th {\n",
       "        vertical-align: top;\n",
       "    }\n",
       "\n",
       "    .dataframe thead th {\n",
       "        text-align: right;\n",
       "    }\n",
       "</style>\n",
       "<table border=\"1\" class=\"dataframe\">\n",
       "  <thead>\n",
       "    <tr style=\"text-align: right;\">\n",
       "      <th></th>\n",
       "      <th>A</th>\n",
       "      <th>B</th>\n",
       "      <th>C</th>\n",
       "      <th>D</th>\n",
       "      <th>E</th>\n",
       "    </tr>\n",
       "  </thead>\n",
       "  <tbody>\n",
       "    <tr>\n",
       "      <th>0</th>\n",
       "      <td>654.000000</td>\n",
       "      <td>0.373167</td>\n",
       "      <td>0.984890</td>\n",
       "      <td>0.638374</td>\n",
       "      <td>0.527559</td>\n",
       "    </tr>\n",
       "    <tr>\n",
       "      <th>1</th>\n",
       "      <td>0.900700</td>\n",
       "      <td>0.135465</td>\n",
       "      <td>0.156366</td>\n",
       "      <td>0.614674</td>\n",
       "      <td>0.431681</td>\n",
       "    </tr>\n",
       "    <tr>\n",
       "      <th>2</th>\n",
       "      <td>0.955560</td>\n",
       "      <td>0.312437</td>\n",
       "      <td>0.033342</td>\n",
       "      <td>0.898731</td>\n",
       "      <td>0.713390</td>\n",
       "    </tr>\n",
       "    <tr>\n",
       "      <th>3</th>\n",
       "      <td>0.887513</td>\n",
       "      <td>0.824431</td>\n",
       "      <td>0.824303</td>\n",
       "      <td>0.736842</td>\n",
       "      <td>0.179929</td>\n",
       "    </tr>\n",
       "    <tr>\n",
       "      <th>4</th>\n",
       "      <td>0.452951</td>\n",
       "      <td>0.359239</td>\n",
       "      <td>0.746181</td>\n",
       "      <td>0.668290</td>\n",
       "      <td>0.280797</td>\n",
       "    </tr>\n",
       "  </tbody>\n",
       "</table>\n",
       "</div>"
      ]
     },
     "execution_count": 58,
     "metadata": {},
     "output_type": "execute_result"
    }
   ],
   "execution_count": 58
  },
  {
   "metadata": {
    "ExecuteTime": {
     "end_time": "2024-04-20T07:29:50.876048Z",
     "start_time": "2024-04-20T07:29:50.871928Z"
    }
   },
   "cell_type": "code",
   "source": "newdf.loc[0,'A'] = 54",
   "id": "3c1897bc85ad245b",
   "outputs": [],
   "execution_count": 59
  },
  {
   "metadata": {
    "ExecuteTime": {
     "end_time": "2024-04-20T07:31:13.402154Z",
     "start_time": "2024-04-20T07:31:13.389215Z"
    }
   },
   "cell_type": "code",
   "source": "newdf.loc[[1,2],['C','D']]",
   "id": "104d42eedebb4c52",
   "outputs": [
    {
     "data": {
      "text/plain": [
       "          C         D\n",
       "1  0.156366  0.614674\n",
       "2  0.033342  0.898731"
      ],
      "text/html": [
       "<div>\n",
       "<style scoped>\n",
       "    .dataframe tbody tr th:only-of-type {\n",
       "        vertical-align: middle;\n",
       "    }\n",
       "\n",
       "    .dataframe tbody tr th {\n",
       "        vertical-align: top;\n",
       "    }\n",
       "\n",
       "    .dataframe thead th {\n",
       "        text-align: right;\n",
       "    }\n",
       "</style>\n",
       "<table border=\"1\" class=\"dataframe\">\n",
       "  <thead>\n",
       "    <tr style=\"text-align: right;\">\n",
       "      <th></th>\n",
       "      <th>C</th>\n",
       "      <th>D</th>\n",
       "    </tr>\n",
       "  </thead>\n",
       "  <tbody>\n",
       "    <tr>\n",
       "      <th>1</th>\n",
       "      <td>0.156366</td>\n",
       "      <td>0.614674</td>\n",
       "    </tr>\n",
       "    <tr>\n",
       "      <th>2</th>\n",
       "      <td>0.033342</td>\n",
       "      <td>0.898731</td>\n",
       "    </tr>\n",
       "  </tbody>\n",
       "</table>\n",
       "</div>"
      ]
     },
     "execution_count": 60,
     "metadata": {},
     "output_type": "execute_result"
    }
   ],
   "execution_count": 60
  },
  {
   "metadata": {
    "ExecuteTime": {
     "end_time": "2024-04-20T07:32:53.156440Z",
     "start_time": "2024-04-20T07:32:53.143488Z"
    }
   },
   "cell_type": "code",
   "source": "newdf.loc[(newdf['A']<0.3)]",
   "id": "43b157850e5ef554",
   "outputs": [
    {
     "data": {
      "text/plain": [
       "            A         B         C         D         E\n",
       "5    0.224411  0.428162  0.891536  0.774268  0.563816\n",
       "9    0.037799  0.211287  0.740593  0.865992  0.499979\n",
       "13   0.145675  0.679865  0.588735  0.964252  0.274742\n",
       "14   0.094161  0.569520  0.829421  0.394407  0.007534\n",
       "18   0.220361  0.780803  0.946236  0.997133  0.357058\n",
       "..        ...       ...       ...       ...       ...\n",
       "307  0.186050  0.165407  0.628313  0.837331  0.155237\n",
       "316  0.041228  0.116184  0.148132  0.391107  0.550072\n",
       "318  0.041842  0.019499  0.715896  0.054333  0.010898\n",
       "329  0.215840  0.969948  0.957565  0.392553  0.543033\n",
       "332  0.298647  0.810011  0.018125  0.863259  0.121079\n",
       "\n",
       "[111 rows x 5 columns]"
      ],
      "text/html": [
       "<div>\n",
       "<style scoped>\n",
       "    .dataframe tbody tr th:only-of-type {\n",
       "        vertical-align: middle;\n",
       "    }\n",
       "\n",
       "    .dataframe tbody tr th {\n",
       "        vertical-align: top;\n",
       "    }\n",
       "\n",
       "    .dataframe thead th {\n",
       "        text-align: right;\n",
       "    }\n",
       "</style>\n",
       "<table border=\"1\" class=\"dataframe\">\n",
       "  <thead>\n",
       "    <tr style=\"text-align: right;\">\n",
       "      <th></th>\n",
       "      <th>A</th>\n",
       "      <th>B</th>\n",
       "      <th>C</th>\n",
       "      <th>D</th>\n",
       "      <th>E</th>\n",
       "    </tr>\n",
       "  </thead>\n",
       "  <tbody>\n",
       "    <tr>\n",
       "      <th>5</th>\n",
       "      <td>0.224411</td>\n",
       "      <td>0.428162</td>\n",
       "      <td>0.891536</td>\n",
       "      <td>0.774268</td>\n",
       "      <td>0.563816</td>\n",
       "    </tr>\n",
       "    <tr>\n",
       "      <th>9</th>\n",
       "      <td>0.037799</td>\n",
       "      <td>0.211287</td>\n",
       "      <td>0.740593</td>\n",
       "      <td>0.865992</td>\n",
       "      <td>0.499979</td>\n",
       "    </tr>\n",
       "    <tr>\n",
       "      <th>13</th>\n",
       "      <td>0.145675</td>\n",
       "      <td>0.679865</td>\n",
       "      <td>0.588735</td>\n",
       "      <td>0.964252</td>\n",
       "      <td>0.274742</td>\n",
       "    </tr>\n",
       "    <tr>\n",
       "      <th>14</th>\n",
       "      <td>0.094161</td>\n",
       "      <td>0.569520</td>\n",
       "      <td>0.829421</td>\n",
       "      <td>0.394407</td>\n",
       "      <td>0.007534</td>\n",
       "    </tr>\n",
       "    <tr>\n",
       "      <th>18</th>\n",
       "      <td>0.220361</td>\n",
       "      <td>0.780803</td>\n",
       "      <td>0.946236</td>\n",
       "      <td>0.997133</td>\n",
       "      <td>0.357058</td>\n",
       "    </tr>\n",
       "    <tr>\n",
       "      <th>...</th>\n",
       "      <td>...</td>\n",
       "      <td>...</td>\n",
       "      <td>...</td>\n",
       "      <td>...</td>\n",
       "      <td>...</td>\n",
       "    </tr>\n",
       "    <tr>\n",
       "      <th>307</th>\n",
       "      <td>0.186050</td>\n",
       "      <td>0.165407</td>\n",
       "      <td>0.628313</td>\n",
       "      <td>0.837331</td>\n",
       "      <td>0.155237</td>\n",
       "    </tr>\n",
       "    <tr>\n",
       "      <th>316</th>\n",
       "      <td>0.041228</td>\n",
       "      <td>0.116184</td>\n",
       "      <td>0.148132</td>\n",
       "      <td>0.391107</td>\n",
       "      <td>0.550072</td>\n",
       "    </tr>\n",
       "    <tr>\n",
       "      <th>318</th>\n",
       "      <td>0.041842</td>\n",
       "      <td>0.019499</td>\n",
       "      <td>0.715896</td>\n",
       "      <td>0.054333</td>\n",
       "      <td>0.010898</td>\n",
       "    </tr>\n",
       "    <tr>\n",
       "      <th>329</th>\n",
       "      <td>0.215840</td>\n",
       "      <td>0.969948</td>\n",
       "      <td>0.957565</td>\n",
       "      <td>0.392553</td>\n",
       "      <td>0.543033</td>\n",
       "    </tr>\n",
       "    <tr>\n",
       "      <th>332</th>\n",
       "      <td>0.298647</td>\n",
       "      <td>0.810011</td>\n",
       "      <td>0.018125</td>\n",
       "      <td>0.863259</td>\n",
       "      <td>0.121079</td>\n",
       "    </tr>\n",
       "  </tbody>\n",
       "</table>\n",
       "<p>111 rows × 5 columns</p>\n",
       "</div>"
      ]
     },
     "execution_count": 62,
     "metadata": {},
     "output_type": "execute_result"
    }
   ],
   "execution_count": 62
  },
  {
   "metadata": {
    "ExecuteTime": {
     "end_time": "2024-04-20T07:33:38.098921Z",
     "start_time": "2024-04-20T07:33:38.083573Z"
    }
   },
   "cell_type": "code",
   "source": "newdf.loc[(newdf['A']<0.3) & (newdf['C']>0.3)]",
   "id": "c879bd8558e03370",
   "outputs": [
    {
     "data": {
      "text/plain": [
       "            A         B         C         D         E\n",
       "5    0.224411  0.428162  0.891536  0.774268  0.563816\n",
       "9    0.037799  0.211287  0.740593  0.865992  0.499979\n",
       "13   0.145675  0.679865  0.588735  0.964252  0.274742\n",
       "14   0.094161  0.569520  0.829421  0.394407  0.007534\n",
       "18   0.220361  0.780803  0.946236  0.997133  0.357058\n",
       "..        ...       ...       ...       ...       ...\n",
       "290  0.103856  0.433886  0.750488  0.979968  0.864679\n",
       "306  0.276793  0.467078  0.816612  0.606498  0.015754\n",
       "307  0.186050  0.165407  0.628313  0.837331  0.155237\n",
       "318  0.041842  0.019499  0.715896  0.054333  0.010898\n",
       "329  0.215840  0.969948  0.957565  0.392553  0.543033\n",
       "\n",
       "[77 rows x 5 columns]"
      ],
      "text/html": [
       "<div>\n",
       "<style scoped>\n",
       "    .dataframe tbody tr th:only-of-type {\n",
       "        vertical-align: middle;\n",
       "    }\n",
       "\n",
       "    .dataframe tbody tr th {\n",
       "        vertical-align: top;\n",
       "    }\n",
       "\n",
       "    .dataframe thead th {\n",
       "        text-align: right;\n",
       "    }\n",
       "</style>\n",
       "<table border=\"1\" class=\"dataframe\">\n",
       "  <thead>\n",
       "    <tr style=\"text-align: right;\">\n",
       "      <th></th>\n",
       "      <th>A</th>\n",
       "      <th>B</th>\n",
       "      <th>C</th>\n",
       "      <th>D</th>\n",
       "      <th>E</th>\n",
       "    </tr>\n",
       "  </thead>\n",
       "  <tbody>\n",
       "    <tr>\n",
       "      <th>5</th>\n",
       "      <td>0.224411</td>\n",
       "      <td>0.428162</td>\n",
       "      <td>0.891536</td>\n",
       "      <td>0.774268</td>\n",
       "      <td>0.563816</td>\n",
       "    </tr>\n",
       "    <tr>\n",
       "      <th>9</th>\n",
       "      <td>0.037799</td>\n",
       "      <td>0.211287</td>\n",
       "      <td>0.740593</td>\n",
       "      <td>0.865992</td>\n",
       "      <td>0.499979</td>\n",
       "    </tr>\n",
       "    <tr>\n",
       "      <th>13</th>\n",
       "      <td>0.145675</td>\n",
       "      <td>0.679865</td>\n",
       "      <td>0.588735</td>\n",
       "      <td>0.964252</td>\n",
       "      <td>0.274742</td>\n",
       "    </tr>\n",
       "    <tr>\n",
       "      <th>14</th>\n",
       "      <td>0.094161</td>\n",
       "      <td>0.569520</td>\n",
       "      <td>0.829421</td>\n",
       "      <td>0.394407</td>\n",
       "      <td>0.007534</td>\n",
       "    </tr>\n",
       "    <tr>\n",
       "      <th>18</th>\n",
       "      <td>0.220361</td>\n",
       "      <td>0.780803</td>\n",
       "      <td>0.946236</td>\n",
       "      <td>0.997133</td>\n",
       "      <td>0.357058</td>\n",
       "    </tr>\n",
       "    <tr>\n",
       "      <th>...</th>\n",
       "      <td>...</td>\n",
       "      <td>...</td>\n",
       "      <td>...</td>\n",
       "      <td>...</td>\n",
       "      <td>...</td>\n",
       "    </tr>\n",
       "    <tr>\n",
       "      <th>290</th>\n",
       "      <td>0.103856</td>\n",
       "      <td>0.433886</td>\n",
       "      <td>0.750488</td>\n",
       "      <td>0.979968</td>\n",
       "      <td>0.864679</td>\n",
       "    </tr>\n",
       "    <tr>\n",
       "      <th>306</th>\n",
       "      <td>0.276793</td>\n",
       "      <td>0.467078</td>\n",
       "      <td>0.816612</td>\n",
       "      <td>0.606498</td>\n",
       "      <td>0.015754</td>\n",
       "    </tr>\n",
       "    <tr>\n",
       "      <th>307</th>\n",
       "      <td>0.186050</td>\n",
       "      <td>0.165407</td>\n",
       "      <td>0.628313</td>\n",
       "      <td>0.837331</td>\n",
       "      <td>0.155237</td>\n",
       "    </tr>\n",
       "    <tr>\n",
       "      <th>318</th>\n",
       "      <td>0.041842</td>\n",
       "      <td>0.019499</td>\n",
       "      <td>0.715896</td>\n",
       "      <td>0.054333</td>\n",
       "      <td>0.010898</td>\n",
       "    </tr>\n",
       "    <tr>\n",
       "      <th>329</th>\n",
       "      <td>0.215840</td>\n",
       "      <td>0.969948</td>\n",
       "      <td>0.957565</td>\n",
       "      <td>0.392553</td>\n",
       "      <td>0.543033</td>\n",
       "    </tr>\n",
       "  </tbody>\n",
       "</table>\n",
       "<p>77 rows × 5 columns</p>\n",
       "</div>"
      ]
     },
     "execution_count": 63,
     "metadata": {},
     "output_type": "execute_result"
    }
   ],
   "execution_count": 63
  },
  {
   "metadata": {
    "ExecuteTime": {
     "end_time": "2024-04-20T07:34:16.951102Z",
     "start_time": "2024-04-20T07:34:16.939350Z"
    }
   },
   "cell_type": "code",
   "source": "newdf.head(2)",
   "id": "c38cce16ca057f19",
   "outputs": [
    {
     "data": {
      "text/plain": [
       "         A         B         C         D         E\n",
       "0  54.0000  0.373167  0.984890  0.638374  0.527559\n",
       "1   0.9007  0.135465  0.156366  0.614674  0.431681"
      ],
      "text/html": [
       "<div>\n",
       "<style scoped>\n",
       "    .dataframe tbody tr th:only-of-type {\n",
       "        vertical-align: middle;\n",
       "    }\n",
       "\n",
       "    .dataframe tbody tr th {\n",
       "        vertical-align: top;\n",
       "    }\n",
       "\n",
       "    .dataframe thead th {\n",
       "        text-align: right;\n",
       "    }\n",
       "</style>\n",
       "<table border=\"1\" class=\"dataframe\">\n",
       "  <thead>\n",
       "    <tr style=\"text-align: right;\">\n",
       "      <th></th>\n",
       "      <th>A</th>\n",
       "      <th>B</th>\n",
       "      <th>C</th>\n",
       "      <th>D</th>\n",
       "      <th>E</th>\n",
       "    </tr>\n",
       "  </thead>\n",
       "  <tbody>\n",
       "    <tr>\n",
       "      <th>0</th>\n",
       "      <td>54.0000</td>\n",
       "      <td>0.373167</td>\n",
       "      <td>0.984890</td>\n",
       "      <td>0.638374</td>\n",
       "      <td>0.527559</td>\n",
       "    </tr>\n",
       "    <tr>\n",
       "      <th>1</th>\n",
       "      <td>0.9007</td>\n",
       "      <td>0.135465</td>\n",
       "      <td>0.156366</td>\n",
       "      <td>0.614674</td>\n",
       "      <td>0.431681</td>\n",
       "    </tr>\n",
       "  </tbody>\n",
       "</table>\n",
       "</div>"
      ]
     },
     "execution_count": 64,
     "metadata": {},
     "output_type": "execute_result"
    }
   ],
   "execution_count": 64
  },
  {
   "metadata": {
    "ExecuteTime": {
     "end_time": "2024-04-20T07:34:26.350384Z",
     "start_time": "2024-04-20T07:34:26.343392Z"
    }
   },
   "cell_type": "code",
   "source": "newdf.iloc[0,4]",
   "id": "e6c27fe450a3ab65",
   "outputs": [
    {
     "data": {
      "text/plain": [
       "0.5275592547521134"
      ]
     },
     "execution_count": 65,
     "metadata": {},
     "output_type": "execute_result"
    }
   ],
   "execution_count": 65
  },
  {
   "metadata": {},
   "cell_type": "code",
   "outputs": [],
   "execution_count": null,
   "source": "",
   "id": "1508dcb979ba5aa4"
  }
 ],
 "metadata": {
  "kernelspec": {
   "display_name": "Python 3",
   "language": "python",
   "name": "python3"
  },
  "language_info": {
   "codemirror_mode": {
    "name": "ipython",
    "version": 2
   },
   "file_extension": ".py",
   "mimetype": "text/x-python",
   "name": "python",
   "nbconvert_exporter": "python",
   "pygments_lexer": "ipython2",
   "version": "2.7.6"
  }
 },
 "nbformat": 4,
 "nbformat_minor": 5
}
